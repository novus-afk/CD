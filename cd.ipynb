{
  "nbformat": 4,
  "nbformat_minor": 0,
  "metadata": {
    "colab": {
      "provenance": [],
      "collapsed_sections": [],
      "authorship_tag": "ABX9TyORODM61p+RcfKyVYbseTwS",
      "include_colab_link": true
    },
    "kernelspec": {
      "name": "python3",
      "display_name": "Python 3"
    },
    "language_info": {
      "name": "python"
    }
  },
  "cells": [
    {
      "cell_type": "markdown",
      "metadata": {
        "id": "view-in-github",
        "colab_type": "text"
      },
      "source": [
        "<a href=\"https://colab.research.google.com/github/novus-afk/Convection-Diffusion-1D-Steady-State-python/blob/master/cd.ipynb\" target=\"_parent\"><img src=\"https://colab.research.google.com/assets/colab-badge.svg\" alt=\"Open In Colab\"/></a>"
      ]
    },
    {
      "cell_type": "code",
      "execution_count": null,
      "metadata": {
        "id": "zx5z7jFd16wf"
      },
      "outputs": [],
      "source": [
        "'''\n",
        "      Copyright 2021 MOHAMMED YAHYA ANSARI\n",
        "\n",
        "   Licensed under the Apache License, Version 2.0 (the \"License\");\n",
        "   you may not use this file except in compliance with the License.\n",
        "   You may obtain a copy of the License at\n",
        "\n",
        "       http://www.apache.org/licenses/LICENSE-2.0\n",
        "\n",
        "   Unless required by applicable law or agreed to in writing, software\n",
        "   distributed under the License is distributed on an \"AS IS\" BASIS,\n",
        "   WITHOUT WARRANTIES OR CONDITIONS OF ANY KIND, either express or implied.\n",
        "   See the License for the specific language governing permissions and\n",
        "   limitations under the License.\n",
        "'''"
      ]
    },
    {
      "cell_type": "code",
      "source": [
        "# import the required libraries\n",
        "import pandas as pd\n",
        "import math\n",
        "import matplotlib.pyplot as plt"
      ],
      "metadata": {
        "id": "YSV8bqdO1_S0"
      },
      "execution_count": 1,
      "outputs": []
    },
    {
      "cell_type": "code",
      "source": [
        "1print(\"\\n \\t\\t Convection Diffusion Solver\\n\")\n",
        "print(\"\\nRead more about this solver in repository readme!\")\n",
        "\n",
        "# get input from user\n",
        "n = int(input(\"\\n\\tEnter the no. of grid points :   \"))\n",
        "\n",
        "l = float(input(\"\\n\\tEnter length of plate in m :   \"))\n",
        "\n",
        "u = float(input(\"\\n\\tEnter velocity in m/s :   \"))\n",
        "\n",
        "rho = float(input(\"\\n\\tEnter density in kg/m3 :   \"))\n",
        "\n",
        "ta = float(input(\"\\n\\tEnter left boundary condition :   \"))\n",
        "\n",
        "tb = float(input(\"\\n\\tEnter right boundary condition :   \"))\n",
        "\n",
        "g = float(input(\"\\n\\tEnter Gamma in kg/ms :   \"))"
      ],
      "metadata": {
        "id": "rENoKsI12Bc8",
        "colab": {
          "base_uri": "https://localhost:8080/"
        },
        "outputId": "5ff060f5-9470-4082-ca1e-dad26f3d04ec"
      },
      "execution_count": 2,
      "outputs": [
        {
          "name": "stdout",
          "output_type": "stream",
          "text": [
            "\n",
            " \t\t Convection Diffusion Solver\n",
            "\n",
            "\n",
            "Read more about this solver in repository readme!\n",
            "\n",
            "\tEnter the no. of grid points :   5\n",
            "\n",
            "\tEnter length of plate in m :   1\n",
            "\n",
            "\tEnter velocity in m/s :   2.5\n",
            "\n",
            "\tEnter density in kg/m3 :   1\n",
            "\n",
            "\tEnter left boundary condition :   1\n",
            "\n",
            "\tEnter right boundary condition :   0\n",
            "\n",
            "\tEnter Gamma in kg/ms :   .1\n"
          ]
        }
      ]
    },
    {
      "cell_type": "code",
      "source": [
        "# create list of size n\n",
        "D = [0]*n\n",
        "beta = [0]*n\n",
        "alpha = [0]*n\n",
        "c = [0]*n\n",
        "A = [0]*n\n",
        "C = [0]*n\n",
        "X = [0]*n\n",
        "XA = [0]*n\n",
        "XX = [0]*n\n",
        "Err = [0]*n\n",
        "\n",
        "# calculate dx, D and F\n",
        "dx = l/n\n",
        "x = g/dx\n",
        "y = rho*u"
      ],
      "metadata": {
        "id": "ORWt1r-S2Kdr"
      },
      "execution_count": 3,
      "outputs": []
    },
    {
      "cell_type": "code",
      "source": [
        "# create tdma function\n",
        "# Define TDMA function very specific to this numerical solver, for general tdma solver refer : https://github.com/novus-afk/TDMA-Solver\n",
        "def TDMA(n, beta, D, alpha, c):\n",
        "    beta[0] = 0\n",
        "    beta[n-1] = beta[1]\n",
        "    alpha[0] = alpha[1]\n",
        "    alpha[n-1] = 0\n",
        "    # copy common values\n",
        "    for i in range(2, n-1):\n",
        "        D[i] = D[1]\n",
        "        beta[i] = beta[1]\n",
        "        alpha[i] = alpha[1]\n",
        "    # solve forward substitution\n",
        "    for i in range(0, n):\n",
        "        A[i] = alpha[i]/(D[i] - beta[i]*A[i-1])\n",
        "        C[i] = (beta[i]*C[i-1] + c[i])/(D[i] - beta[i]*A[i-1])\n",
        "\n",
        "    X[n-1] = C[n-1]\n",
        "    # solve backward substitution\n",
        "    j = n-2\n",
        "    while j >= 0:\n",
        "        X[j] = A[j] * X[j+1] + C[j]\n",
        "        j = j-1\n",
        "\n",
        "    return X"
      ],
      "metadata": {
        "id": "tngSQb9W2Zvz"
      },
      "execution_count": 4,
      "outputs": []
    },
    {
      "cell_type": "code",
      "source": [
        "# Create convection diffusion function \n",
        "def CD():\n",
        "    D[0] = (3*x)+y/2\n",
        "    D[1] = 2*x\n",
        "    D[n-1] = (3*x)-y/2\n",
        "\n",
        "    beta[1] = x+y/2\n",
        "    alpha[1] = x-y/2\n",
        "\n",
        "    c[0] = ((2*x)+y)*ta\n",
        "    c[n-1] = ((2*x)-y)*tb\n",
        "    for i in range(1, n-1):\n",
        "        c[i] = 0"
      ],
      "metadata": {
        "id": "5Cz96ZOt2flr"
      },
      "execution_count": 5,
      "outputs": []
    },
    {
      "cell_type": "code",
      "source": [
        "# create upwind function\n",
        "def UPWIND():\n",
        "    D[0] = (3*x)+y\n",
        "    D[1] = (2*x)+y\n",
        "    D[n-1] = (3*x)+y\n",
        "\n",
        "    beta[1] = x+y\n",
        "    alpha[1] = x\n",
        "\n",
        "    c[0] = ((2*x)+y)*ta\n",
        "    c[n-1] = 2*x*tb\n",
        "    for i in range(1, n-1):\n",
        "        c[i] = 0"
      ],
      "metadata": {
        "id": "S5kYLsGx2t0D"
      },
      "execution_count": 6,
      "outputs": []
    },
    {
      "cell_type": "code",
      "source": [
        "# Switch case for type of numerical\n",
        "choice = \"\"\n",
        "while choice != \"q\":\n",
        "    print(\"\"\"\\n\\t\\tSelect a Scheme :\n",
        "        \n",
        "        [ 1 ] Central Differencing Scheme\n",
        "\n",
        "        [ 2 ] UPWIND Scheme\n",
        "\n",
        "        [ q ] Exit\\n\"\"\")\n",
        "    choice = input(\"\\n\\tEnter Choice :\\t\")\n",
        "\n",
        "    if choice == \"1\":\n",
        "        print(\"\\n---> Central Differencing Scheme\\n\")\n",
        "        CD()\n",
        "        temp = TDMA(n, beta, D, alpha, c)\n",
        "        break\n",
        "\n",
        "    elif choice == \"2\":\n",
        "        print(\"\\n---> UPWIND Scheme\\n\")\n",
        "        UPWIND()\n",
        "        temp = TDMA(n, beta, D, alpha, c)\n",
        "        break\n",
        "\n",
        "    elif choice == \"q\":\n",
        "        exit()\n",
        "\n",
        "    else:\n",
        "        print(\"\\n\\n\\tInvalid choice, Try again!\\n\")"
      ],
      "metadata": {
        "id": "PjYNFthF21Kj",
        "colab": {
          "base_uri": "https://localhost:8080/"
        },
        "outputId": "4d39e15e-f0e0-47ed-9ea8-0cd8126ed744"
      },
      "execution_count": 7,
      "outputs": [
        {
          "output_type": "stream",
          "name": "stdout",
          "text": [
            "\n",
            "\t\tSelect a Scheme :\n",
            "        \n",
            "        [ 1 ] Central Differencing Scheme\n",
            "\n",
            "        [ 2 ] UPWIND Scheme\n",
            "\n",
            "        [ q ] Exit\n",
            "\n",
            "\n",
            "\tEnter Choice :\t1\n",
            "\n",
            "---> Central Differencing Scheme\n",
            "\n"
          ]
        }
      ]
    },
    {
      "cell_type": "code",
      "source": [
        "# analytical solution\n",
        "for w in range(0, n):\n",
        "    XX[w] = dx*0.5 + (dx * w)\n",
        "    n1 = rho * u * XX[w] / g\n",
        "    n2 = rho * u * l / g\n",
        "    XA[w] = ta + (((math.exp(n1)-1)/(math.exp(n2)-1))*(tb-ta))\n",
        "    Err[w] = ((XA[w] - X[w]) * 100*2) / (XA[w] + X[w])"
      ],
      "metadata": {
        "id": "sNLnY9SE232r"
      },
      "execution_count": 8,
      "outputs": []
    },
    {
      "cell_type": "code",
      "source": [
        "# Create data for Pandas DataFrame\n",
        "OUTPUT = list(zip(beta, D, alpha, c, A, C, X, XA, Err))\n",
        "# create Pandas DataFrame\n",
        "result = pd.DataFrame(data=OUTPUT, columns=[\n",
        "                      \"\\N{GREEK SMALL LETTER BETA}\", \"Diagonal (D)\", \"\\N{GREEK SMALL LETTER ALPHA}\", \"Constants\", \"A\", \"C'\", \"X\", \"X-Analytical\", \"% Error\"])\n",
        "# Change index to 1,2,3,.....\n",
        "result.index = result.index + 1\n",
        "print(result)"
      ],
      "metadata": {
        "id": "PiA8RP1R27s8",
        "colab": {
          "base_uri": "https://localhost:8080/"
        },
        "outputId": "3cfc1580-8e86-4615-c2fb-072d4001342b"
      },
      "execution_count": 9,
      "outputs": [
        {
          "output_type": "stream",
          "name": "stdout",
          "text": [
            "      β  Diagonal (D)     α  Constants         A        C'         X  \\\n",
            "1  0.00          2.75 -0.75        3.5 -0.272727  1.272727  1.035630   \n",
            "2  1.75          1.00 -0.75        0.0 -0.507692  1.507692  0.869355   \n",
            "3  1.75          1.00 -0.75        0.0 -0.397149  1.397149  1.257331   \n",
            "4  1.75          1.00 -0.75        0.0 -0.442475  1.442475  0.352053   \n",
            "5  1.75          0.25  0.00       -0.0  0.000000  2.464370  2.464370   \n",
            "\n",
            "   X-Analytical    % Error  \n",
            "1      1.000000  -3.500684  \n",
            "2      1.000000  13.977564  \n",
            "3      0.999996 -22.799978  \n",
            "4      0.999447  95.803814  \n",
            "5      0.917915 -91.444377  \n"
          ]
        }
      ]
    },
    {
      "cell_type": "code",
      "source": [
        "# plot and show graph\n",
        "# adding initial and final conditions to the list, as list contains values at nodes\n",
        "X.insert(0, ta)\n",
        "X.append(tb)\n",
        "XA.insert(0, ta)\n",
        "XA.append(tb)\n",
        "XX.insert(0, 0)\n",
        "XX.append(l)\n",
        "\n",
        "graph = pd.DataFrame({'X Numerical': X, 'X Exact(Analytical)': XA}, index=XX)\n",
        "# graph.plot()\n",
        "plt.plot(graph, marker='.')\n",
        "plt.title(\"X-Distance Graph\")\n",
        "plt.xlabel(\"Distance(m)\")\n",
        "plt.ylabel(\"X\")\n",
        "plt.grid()\n",
        "plt.legend(['X Numerical', 'X Exact(Analytical)'])\n",
        "figure = plt.gcf()\n",
        "print('''\\n********** Plot Graph complete **********\n",
        "\n",
        "* * * * *   Graph Displayed   * * * * *\n",
        "\n",
        "*****     Close Graph to Continue     *****\\n''')\n",
        "plt.show()"
      ],
      "metadata": {
        "id": "09V4O9y63ABq",
        "colab": {
          "base_uri": "https://localhost:8080/",
          "height": 416
        },
        "outputId": "ca51b150-fc11-4f49-a740-20241021d05f"
      },
      "execution_count": 10,
      "outputs": [
        {
          "output_type": "stream",
          "name": "stdout",
          "text": [
            "\n",
            "********** Plot Graph complete **********\n",
            "\n",
            "* * * * *   Graph Displayed   * * * * *\n",
            "\n",
            "*****     Close Graph to Continue     *****\n",
            "\n"
          ]
        },
        {
          "output_type": "display_data",
          "data": {
            "text/plain": [
              "<Figure size 432x288 with 1 Axes>"
            ],
            "image/png": "[encoded data removed]"
          },
          "metadata": {
            "needs_background": "light"
          }
        }
      ]
    },
    {
      "cell_type": "code",
      "source": [
        "# # save result ot excel sheet\n",
        "# export = \"\"\n",
        "# while export != \"q\":\n",
        "#     print(\"\"\"\\n\\n\\t[ y ] Enter y to export table and graph to output folder.\n",
        "    \n",
        "#         [ q ] Enter q to exit without exporting.\\n\\n\"\"\")\n",
        "#     export = input(\"Enter your choice :   \\t\")\n",
        "\n",
        "#     if (export == \"y\"):\n",
        "#         # add serial no  column at the start of the DataFrame\n",
        "#         result.insert(0, 'Sr.No.', range(1, 1 + len(result)))\n",
        "#         # .to_excel to export excel file\n",
        "#         result.to_excel('output/CD.xlsx', sheet_name='Output', index=False)\n",
        "#         # save graph\n",
        "#         figure.savefig(\"output/graph.png\")\n",
        "#         print(\"\\n\\n*************** Export result to output folder complete. ***************\\n\\n\")\n",
        "#         break\n",
        "\n",
        "#     elif (export == \"q\"):\n",
        "#         print(\"\\n\\n***** Result not saved to excel. *****\\n\\n\")\n",
        "#         break\n",
        "\n",
        "#     else:\n",
        "#         print(\"\\n\\t\\tInvalid Choice, Try again!\")\n",
        "\n",
        "\n",
        "# input(\"Press Enter to exit\")"
      ],
      "metadata": {
        "id": "w8-eGyJ23D4K"
      },
      "execution_count": null,
      "outputs": []
    }
  ]
}